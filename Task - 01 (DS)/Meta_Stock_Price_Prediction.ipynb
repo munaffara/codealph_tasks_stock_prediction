{
 "cells": [
  {
   "cell_type": "markdown",
   "id": "1dc40fbe-6309-4b61-baca-b8a119a2ec68",
   "metadata": {},
   "source": [
    "### TASK- 02\n",
    "### STOCK PREDICTION\n",
    "\n",
    "#### Take stock price of any company you want and predicts its price by using LSTM. Use only Jupyter notebook code\n"
   ]
  },
  {
   "cell_type": "code",
   "execution_count": null,
   "id": "2aa732a5-0a89-42bc-a0f7-de0cc6f3c6a2",
   "metadata": {},
   "outputs": [],
   "source": []
  },
  {
   "cell_type": "markdown",
   "id": "7ca8686b-43e0-44e0-aa11-8b860a577e74",
   "metadata": {},
   "source": [
    " ##### First, import the necessary libraries for data manipulation, visualization, and model building."
   ]
  },
  {
   "cell_type": "code",
   "execution_count": 1,
   "id": "a5cf01f4-76ad-4f77-b8ce-96251e14f320",
   "metadata": {},
   "outputs": [],
   "source": [
    "import numpy as np\n",
    "import pandas as pd\n",
    "import matplotlib.pyplot as plt\n",
    "from sklearn.preprocessing import MinMaxScaler\n",
    "from keras.models import Sequential\n",
    "from keras.layers import Dense, LSTM, Dropout, Input"
   ]
  },
  {
   "cell_type": "code",
   "execution_count": null,
   "id": "cc2ea2be-b5aa-4984-8f8f-1c2e6358ce88",
   "metadata": {},
   "outputs": [],
   "source": []
  },
  {
   "cell_type": "markdown",
   "id": "8ee19013-2fb7-4b24-aa0a-9f60642472e2",
   "metadata": {},
   "source": [
    " ##### Load the Meta Stock Price Dataset CSV file into a DataFrame using Pandas and display the first 10 rows of the dataset."
   ]
  },
  {
   "cell_type": "code",
   "execution_count": 2,
   "id": "e461dd4c-099e-4ff2-b56c-02dc8ffa56d6",
   "metadata": {},
   "outputs": [
    {
     "data": {
      "text/html": [
       "<div>\n",
       "<style scoped>\n",
       "    .dataframe tbody tr th:only-of-type {\n",
       "        vertical-align: middle;\n",
       "    }\n",
       "\n",
       "    .dataframe tbody tr th {\n",
       "        vertical-align: top;\n",
       "    }\n",
       "\n",
       "    .dataframe thead th {\n",
       "        text-align: right;\n",
       "    }\n",
       "</style>\n",
       "<table border=\"1\" class=\"dataframe\">\n",
       "  <thead>\n",
       "    <tr style=\"text-align: right;\">\n",
       "      <th></th>\n",
       "      <th>Date</th>\n",
       "      <th>Open</th>\n",
       "      <th>High</th>\n",
       "      <th>Low</th>\n",
       "      <th>Close</th>\n",
       "      <th>Adj Close</th>\n",
       "      <th>Volume</th>\n",
       "    </tr>\n",
       "  </thead>\n",
       "  <tbody>\n",
       "    <tr>\n",
       "      <th>0</th>\n",
       "      <td>2012-05-18</td>\n",
       "      <td>42.049999</td>\n",
       "      <td>45.000000</td>\n",
       "      <td>38.000000</td>\n",
       "      <td>38.230000</td>\n",
       "      <td>38.230000</td>\n",
       "      <td>573576400</td>\n",
       "    </tr>\n",
       "    <tr>\n",
       "      <th>1</th>\n",
       "      <td>2012-05-21</td>\n",
       "      <td>36.529999</td>\n",
       "      <td>36.660000</td>\n",
       "      <td>33.000000</td>\n",
       "      <td>34.029999</td>\n",
       "      <td>34.029999</td>\n",
       "      <td>168192700</td>\n",
       "    </tr>\n",
       "    <tr>\n",
       "      <th>2</th>\n",
       "      <td>2012-05-22</td>\n",
       "      <td>32.610001</td>\n",
       "      <td>33.590000</td>\n",
       "      <td>30.940001</td>\n",
       "      <td>31.000000</td>\n",
       "      <td>31.000000</td>\n",
       "      <td>101786600</td>\n",
       "    </tr>\n",
       "    <tr>\n",
       "      <th>3</th>\n",
       "      <td>2012-05-23</td>\n",
       "      <td>31.370001</td>\n",
       "      <td>32.500000</td>\n",
       "      <td>31.360001</td>\n",
       "      <td>32.000000</td>\n",
       "      <td>32.000000</td>\n",
       "      <td>73600000</td>\n",
       "    </tr>\n",
       "    <tr>\n",
       "      <th>4</th>\n",
       "      <td>2012-05-24</td>\n",
       "      <td>32.950001</td>\n",
       "      <td>33.209999</td>\n",
       "      <td>31.770000</td>\n",
       "      <td>33.029999</td>\n",
       "      <td>33.029999</td>\n",
       "      <td>50237200</td>\n",
       "    </tr>\n",
       "    <tr>\n",
       "      <th>5</th>\n",
       "      <td>2012-05-25</td>\n",
       "      <td>32.900002</td>\n",
       "      <td>32.950001</td>\n",
       "      <td>31.110001</td>\n",
       "      <td>31.910000</td>\n",
       "      <td>31.910000</td>\n",
       "      <td>37149800</td>\n",
       "    </tr>\n",
       "    <tr>\n",
       "      <th>6</th>\n",
       "      <td>2012-05-29</td>\n",
       "      <td>31.480000</td>\n",
       "      <td>31.690001</td>\n",
       "      <td>28.650000</td>\n",
       "      <td>28.840000</td>\n",
       "      <td>28.840000</td>\n",
       "      <td>78063400</td>\n",
       "    </tr>\n",
       "    <tr>\n",
       "      <th>7</th>\n",
       "      <td>2012-05-30</td>\n",
       "      <td>28.700001</td>\n",
       "      <td>29.549999</td>\n",
       "      <td>27.860001</td>\n",
       "      <td>28.190001</td>\n",
       "      <td>28.190001</td>\n",
       "      <td>57267900</td>\n",
       "    </tr>\n",
       "    <tr>\n",
       "      <th>8</th>\n",
       "      <td>2012-05-31</td>\n",
       "      <td>28.549999</td>\n",
       "      <td>29.670000</td>\n",
       "      <td>26.830000</td>\n",
       "      <td>29.600000</td>\n",
       "      <td>29.600000</td>\n",
       "      <td>111639200</td>\n",
       "    </tr>\n",
       "    <tr>\n",
       "      <th>9</th>\n",
       "      <td>2012-06-01</td>\n",
       "      <td>28.889999</td>\n",
       "      <td>29.150000</td>\n",
       "      <td>27.389999</td>\n",
       "      <td>27.719999</td>\n",
       "      <td>27.719999</td>\n",
       "      <td>41855500</td>\n",
       "    </tr>\n",
       "  </tbody>\n",
       "</table>\n",
       "</div>"
      ],
      "text/plain": [
       "         Date       Open       High        Low      Close  Adj Close  \\\n",
       "0  2012-05-18  42.049999  45.000000  38.000000  38.230000  38.230000   \n",
       "1  2012-05-21  36.529999  36.660000  33.000000  34.029999  34.029999   \n",
       "2  2012-05-22  32.610001  33.590000  30.940001  31.000000  31.000000   \n",
       "3  2012-05-23  31.370001  32.500000  31.360001  32.000000  32.000000   \n",
       "4  2012-05-24  32.950001  33.209999  31.770000  33.029999  33.029999   \n",
       "5  2012-05-25  32.900002  32.950001  31.110001  31.910000  31.910000   \n",
       "6  2012-05-29  31.480000  31.690001  28.650000  28.840000  28.840000   \n",
       "7  2012-05-30  28.700001  29.549999  27.860001  28.190001  28.190001   \n",
       "8  2012-05-31  28.549999  29.670000  26.830000  29.600000  29.600000   \n",
       "9  2012-06-01  28.889999  29.150000  27.389999  27.719999  27.719999   \n",
       "\n",
       "      Volume  \n",
       "0  573576400  \n",
       "1  168192700  \n",
       "2  101786600  \n",
       "3   73600000  \n",
       "4   50237200  \n",
       "5   37149800  \n",
       "6   78063400  \n",
       "7   57267900  \n",
       "8  111639200  \n",
       "9   41855500  "
      ]
     },
     "execution_count": 2,
     "metadata": {},
     "output_type": "execute_result"
    }
   ],
   "source": [
    "# Load the Dataset\n",
    "df = pd.read_csv('Meta_Stock_Price_Dataset.csv')\n",
    "df.head(10)"
   ]
  },
  {
   "cell_type": "code",
   "execution_count": null,
   "id": "c726adc4-ab80-4f41-82bf-722b6268c993",
   "metadata": {},
   "outputs": [],
   "source": []
  },
  {
   "cell_type": "markdown",
   "id": "1083d11a-e6fb-4943-96ae-374477fb581a",
   "metadata": {},
   "source": [
    " ##### displays a concise summary of the DataFrame, including non-null counts, data types, and memory usage"
   ]
  },
  {
   "cell_type": "code",
   "execution_count": 3,
   "id": "7013991b-6b7e-4462-b522-fcd26c9144c2",
   "metadata": {},
   "outputs": [
    {
     "name": "stdout",
     "output_type": "stream",
     "text": [
      "<class 'pandas.core.frame.DataFrame'>\n",
      "RangeIndex: 2906 entries, 0 to 2905\n",
      "Data columns (total 7 columns):\n",
      " #   Column     Non-Null Count  Dtype  \n",
      "---  ------     --------------  -----  \n",
      " 0   Date       2906 non-null   object \n",
      " 1   Open       2906 non-null   float64\n",
      " 2   High       2906 non-null   float64\n",
      " 3   Low        2906 non-null   float64\n",
      " 4   Close      2906 non-null   float64\n",
      " 5   Adj Close  2906 non-null   float64\n",
      " 6   Volume     2906 non-null   int64  \n",
      "dtypes: float64(5), int64(1), object(1)\n",
      "memory usage: 159.1+ KB\n"
     ]
    }
   ],
   "source": [
    "df.info()"
   ]
  },
  {
   "cell_type": "code",
   "execution_count": null,
   "id": "8f13b95d-8e0e-48e2-b1f1-4940c712a433",
   "metadata": {},
   "outputs": [],
   "source": []
  },
  {
   "cell_type": "markdown",
   "id": "4512c65c-0796-4abf-9524-10230cc1244d",
   "metadata": {},
   "source": [
    " ##### Extracts the 'Close' column from the DataFrame, reshapes it into a two-dimensional array"
   ]
  },
  {
   "cell_type": "code",
   "execution_count": 4,
   "id": "f1eef172-7f45-4b48-bb47-340dd4bceef1",
   "metadata": {},
   "outputs": [],
   "source": [
    "# Use the 'Close' column for prediction\n",
    "data = df['Close'].values\n",
    "data = data.reshape(-1, 1)"
   ]
  },
  {
   "cell_type": "code",
   "execution_count": null,
   "id": "dca06f25-b5b7-45dc-be1d-dc5958639dee",
   "metadata": {},
   "outputs": [],
   "source": []
  },
  {
   "cell_type": "markdown",
   "id": "a5b9cd80-7127-45a2-8639-d670351dbd0e",
   "metadata": {},
   "source": [
    "##### Scale the data to a range between 0 and 1 using MinMaxScaler for improved performance during model training."
   ]
  },
  {
   "cell_type": "code",
   "execution_count": 5,
   "id": "66e445b1-ff9f-4d5c-99c1-254115f70b8b",
   "metadata": {},
   "outputs": [],
   "source": [
    "# Scale the data to be between 0 and 1\n",
    "scaler = MinMaxScaler(feature_range=(0, 1))\n",
    "scaled_data = scaler.fit_transform(data)"
   ]
  },
  {
   "cell_type": "code",
   "execution_count": null,
   "id": "f237ac1c-967f-4f62-bd7c-5357724d22af",
   "metadata": {},
   "outputs": [],
   "source": []
  },
  {
   "cell_type": "markdown",
   "id": "10692700-7da4-4ea3-9d5e-dc8e3f5a1d87",
   "metadata": {},
   "source": [
    "##### Data is split into a training dataset, which consists comprising of 80% of the total scaled data."
   ]
  },
  {
   "cell_type": "code",
   "execution_count": 6,
   "id": "df4272fc-d512-4f47-b545-5b73ab8bea79",
   "metadata": {},
   "outputs": [],
   "source": [
    "# Create the training dataset\n",
    "train_data_len = int(np.ceil(len(scaled_data) * 0.8))\n",
    "train_data = scaled_data[0:train_data_len, :]"
   ]
  },
  {
   "cell_type": "code",
   "execution_count": null,
   "id": "72994e89-1532-4200-b69f-1c3a00fbf9a3",
   "metadata": {},
   "outputs": [],
   "source": []
  },
  {
   "cell_type": "markdown",
   "id": "6ff7d23c-9190-425c-b3c2-629d20d6794a",
   "metadata": {},
   "source": [
    "##### Prepares the data for LSTM training by creating sequences of 60 time steps as features (x_train) and the subsequent value as the target (y_train). It then converts these lists to NumPy arrays and reshapes x_train to have the required three dimensions for LSTM input."
   ]
  },
  {
   "cell_type": "code",
   "execution_count": 7,
   "id": "79a423a2-12d5-4742-9fd4-a72b6fbc8ac0",
   "metadata": {},
   "outputs": [],
   "source": [
    "# Split the data into x_train and y_train\n",
    "x_train = []\n",
    "y_train = []\n",
    "\n",
    "for i in range(60, len(train_data)):\n",
    "    x_train.append(train_data[i-60:i, 0])\n",
    "    y_train.append(train_data[i, 0])\n",
    "    \n",
    "# Convert x_train and y_train to numpy arrays\n",
    "x_train, y_train = np.array(x_train), np.array(y_train)\n",
    "\n",
    "# Reshape the data for LSTM\n",
    "x_train = np.reshape(x_train, (x_train.shape[0], x_train.shape[1], 1))"
   ]
  },
  {
   "cell_type": "code",
   "execution_count": null,
   "id": "8d589ddd-63a0-4637-b0ca-3364066c3893",
   "metadata": {},
   "outputs": [],
   "source": []
  },
  {
   "cell_type": "markdown",
   "id": "04398668-2c02-4bd1-a770-f598f826ada9",
   "metadata": {},
   "source": [
    "##### Builds an LSTM model with four LSTM layers, each followed by a Dropout layer to prevent overfitting. The final Dense layer outputs the predicted value. The model is compiled with the Adam optimizer and mean squared error loss function. It is then trained on the data with a batch size of 1 and for 1 epoch."
   ]
  },
  {
   "cell_type": "code",
   "execution_count": 8,
   "id": "e33d3ea4-6ea1-4791-b822-5f45fa06fcca",
   "metadata": {},
   "outputs": [
    {
     "name": "stderr",
     "output_type": "stream",
     "text": [
      "E:\\Anaconda\\Lib\\site-packages\\keras\\src\\layers\\rnn\\rnn.py:204: UserWarning: Do not pass an `input_shape`/`input_dim` argument to a layer. When using Sequential models, prefer using an `Input(shape)` object as the first layer in the model instead.\n",
      "  super().__init__(**kwargs)\n"
     ]
    },
    {
     "name": "stdout",
     "output_type": "stream",
     "text": [
      "Epoch 1/20\n",
      "71/71 - 93s - 1s/step - loss: 0.0117\n",
      "Epoch 2/20\n",
      "71/71 - 8s - 118ms/step - loss: 0.0024\n",
      "Epoch 3/20\n",
      "71/71 - 6s - 79ms/step - loss: 0.0023\n",
      "Epoch 4/20\n",
      "71/71 - 5s - 76ms/step - loss: 0.0017\n",
      "Epoch 5/20\n",
      "71/71 - 11s - 153ms/step - loss: 0.0021\n",
      "Epoch 6/20\n",
      "71/71 - 7s - 94ms/step - loss: 0.0019\n",
      "Epoch 7/20\n",
      "71/71 - 6s - 83ms/step - loss: 0.0018\n",
      "Epoch 8/20\n",
      "71/71 - 6s - 83ms/step - loss: 0.0015\n",
      "Epoch 9/20\n",
      "71/71 - 6s - 82ms/step - loss: 0.0017\n",
      "Epoch 10/20\n",
      "71/71 - 5s - 76ms/step - loss: 0.0014\n",
      "Epoch 11/20\n",
      "71/71 - 5s - 77ms/step - loss: 0.0017\n",
      "Epoch 12/20\n",
      "71/71 - 6s - 84ms/step - loss: 0.0014\n",
      "Epoch 13/20\n",
      "71/71 - 6s - 81ms/step - loss: 0.0015\n",
      "Epoch 14/20\n",
      "71/71 - 5s - 77ms/step - loss: 0.0013\n",
      "Epoch 15/20\n",
      "71/71 - 7s - 105ms/step - loss: 0.0012\n",
      "Epoch 16/20\n",
      "71/71 - 7s - 99ms/step - loss: 0.0013\n",
      "Epoch 17/20\n",
      "71/71 - 9s - 125ms/step - loss: 0.0017\n",
      "Epoch 18/20\n",
      "71/71 - 7s - 104ms/step - loss: 0.0011\n",
      "Epoch 19/20\n",
      "71/71 - 8s - 112ms/step - loss: 0.0012\n",
      "Epoch 20/20\n",
      "71/71 - 8s - 116ms/step - loss: 0.0012\n"
     ]
    },
    {
     "data": {
      "text/plain": [
       "<keras.src.callbacks.history.History at 0x24de676b590>"
      ]
     },
     "execution_count": 8,
     "metadata": {},
     "output_type": "execute_result"
    }
   ],
   "source": [
    "# Build the LSTM model\n",
    "model = Sequential()\n",
    "\n",
    "# First LSTM layer with Dropout\n",
    "model.add(LSTM(units=50, return_sequences=True, input_shape=(x_train.shape[1], 1)))\n",
    "model.add(Dropout(0.2))\n",
    "\n",
    "# Second LSTM layer with Dropout\n",
    "model.add(LSTM(units=50, return_sequences=True))\n",
    "model.add(Dropout(0.2))\n",
    "\n",
    "# Third LSTM layer with Dropout\n",
    "model.add(LSTM(units=50, return_sequences=True))\n",
    "model.add(Dropout(0.2))\n",
    "\n",
    "# Fourth LSTM layer with Dropout\n",
    "model.add(LSTM(units=50, return_sequences=False))\n",
    "model.add(Dropout(0.2))\n",
    "\n",
    "# Output layer\n",
    "model.add(Dense(units=1))\n",
    "\n",
    "# Compile the model\n",
    "model.compile(optimizer='adam', loss='mean_squared_error')\n",
    "\n",
    "# Train the model\n",
    "model.fit(x_train, y_train, batch_size=32, epochs=20, verbose=2)"
   ]
  },
  {
   "cell_type": "code",
   "execution_count": null,
   "id": "e9696ca2-ee6b-4bac-ad44-0c5ccca42908",
   "metadata": {},
   "outputs": [],
   "source": []
  },
  {
   "cell_type": "markdown",
   "id": "caef4827-c098-4c5e-aecd-b676a1e48881",
   "metadata": {},
   "source": [
    "##### Prepares the test dataset by extracting a portion of scaled data, creates x_test and y_test arrays for evaluation, reshapes x_test for model input, and generates predictions using the trained model. Finally, it transforms the predictions back to the original scale."
   ]
  },
  {
   "cell_type": "code",
   "execution_count": 9,
   "id": "d9532de2-2353-4454-bf75-1deda8cd31ab",
   "metadata": {},
   "outputs": [
    {
     "name": "stdout",
     "output_type": "stream",
     "text": [
      "\u001b[1m19/19\u001b[0m \u001b[32m━━━━━━━━━━━━━━━━━━━━\u001b[0m\u001b[37m\u001b[0m \u001b[1m10s\u001b[0m 337ms/step\n"
     ]
    }
   ],
   "source": [
    "# Create the test dataset\n",
    "test_data = scaled_data[train_data_len - 60:, :]\n",
    "\n",
    "# Create the x_test and y_test datasets\n",
    "x_test = []\n",
    "y_test = data[train_data_len:, :]\n",
    "\n",
    "for i in range(60, len(test_data)):\n",
    "    x_test.append(test_data[i-60:i, 0])\n",
    "    \n",
    "# Convert x_test to a numpy array\n",
    "x_test = np.array(x_test)\n",
    "\n",
    "# Reshape the data\n",
    "x_test = np.reshape(x_test, (x_test.shape[0], x_test.shape[1], 1))\n",
    "\n",
    "# Get the models predicted price values\n",
    "predictions = model.predict(x_test)\n",
    "predictions = scaler.inverse_transform(predictions)"
   ]
  },
  {
   "cell_type": "code",
   "execution_count": null,
   "id": "74a27e78-a638-4d99-b174-0a7c0b38fd18",
   "metadata": {},
   "outputs": [],
   "source": []
  },
  {
   "cell_type": "markdown",
   "id": "cb210a05-626c-4399-8cb7-eab8e46d9e3c",
   "metadata": {},
   "source": [
    "##### Plots the training data and the actual vs. predicted stock prices on a graph, showing how the model's predictions compare with actual values."
   ]
  },
  {
   "cell_type": "code",
   "execution_count": 11,
   "id": "cdf80f70-9a8b-4310-ba18-956e0d897391",
   "metadata": {},
   "outputs": [
    {
     "name": "stderr",
     "output_type": "stream",
     "text": [
      "C:\\Users\\fathi\\AppData\\Local\\Temp\\ipykernel_9844\\396880180.py:4: SettingWithCopyWarning: \n",
      "A value is trying to be set on a copy of a slice from a DataFrame.\n",
      "Try using .loc[row_indexer,col_indexer] = value instead\n",
      "\n",
      "See the caveats in the documentation: https://pandas.pydata.org/pandas-docs/stable/user_guide/indexing.html#returning-a-view-versus-a-copy\n",
      "  valid['Predictions'] = predictions\n"
     ]
    },
    {
     "data": {
      "image/png": "[encoded data removed]",
      "text/plain": [
       "<Figure size 1600x800 with 1 Axes>"
      ]
     },
     "metadata": {},
     "output_type": "display_data"
    }
   ],
   "source": [
    "# Plot the data\n",
    "train = df[:train_data_len]\n",
    "valid = df[train_data_len:]\n",
    "valid['Predictions'] = predictions\n",
    "\n",
    "\n",
    "# Visualize the data\n",
    "plt.figure(figsize=(16,8))\n",
    "plt.title('Meta stock price prediction')\n",
    "plt.xlabel('Date')\n",
    "plt.ylabel('Close Price USD ($)')\n",
    "plt.plot(train['Close'])\n",
    "plt.plot(valid[['Close', 'Predictions']])\n",
    "plt.legend(['Training Data', 'Actual Prices', 'Predicted Prices'], loc='lower right')\n",
    "plt.show()"
   ]
  }
 ],
 "metadata": {
  "kernelspec": {
   "display_name": "Python 3 (ipykernel)",
   "language": "python",
   "name": "python3"
  },
  "language_info": {
   "codemirror_mode": {
    "name": "ipython",
    "version": 3
   },
   "file_extension": ".py",
   "mimetype": "text/x-python",
   "name": "python",
   "nbconvert_exporter": "python",
   "pygments_lexer": "ipython3",
   "version": "3.11.7"
  }
 },
 "nbformat": 4,
 "nbformat_minor": 5
}
